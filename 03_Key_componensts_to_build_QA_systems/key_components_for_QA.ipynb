{
 "cells": [
  {
   "cell_type": "code",
   "execution_count": 32,
   "id": "ba5d488a",
   "metadata": {},
   "outputs": [],
   "source": [
    "from pathlib import Path"
   ]
  },
  {
   "cell_type": "code",
   "execution_count": 33,
   "id": "b85e8ad6",
   "metadata": {},
   "outputs": [],
   "source": [
    "from llama_index.core import download_loader"
   ]
  },
  {
   "cell_type": "code",
   "execution_count": 34,
   "id": "978a7e9b",
   "metadata": {},
   "outputs": [],
   "source": [
    "from llama_index.core import SimpleDirectoryReader"
   ]
  },
  {
   "cell_type": "code",
   "execution_count": 35,
   "id": "5097ec72",
   "metadata": {},
   "outputs": [],
   "source": [
    "documents = SimpleDirectoryReader(\"data\").load_data()"
   ]
  },
  {
   "cell_type": "code",
   "execution_count": 36,
   "id": "ff05121b",
   "metadata": {},
   "outputs": [
    {
     "name": "stdout",
     "output_type": "stream",
     "text": [
      "Doc ID: fa4c971b-29c5-49aa-b05c-8e8ed1144776\n",
      "Text: PART II Item 5. Market for Registrant’s Common Equity, Related\n",
      "Stockholder Matters and Issuer Purchases of Equity  Securities The\n",
      "Company’s common stock is traded on The Nasdaq Stock Market LLC under\n",
      "the symbol AAPL. Holders As of October 14, 2022 , there were 23,838\n",
      "shareholders of record. Purchases of Equity Securities by the Issuer\n",
      "and Affili...\n"
     ]
    }
   ],
   "source": [
    "print(documents[20])"
   ]
  },
  {
   "cell_type": "code",
   "execution_count": null,
   "id": "8f813bb3",
   "metadata": {},
   "outputs": [],
   "source": []
  },
  {
   "cell_type": "code",
   "execution_count": 37,
   "id": "41d46930",
   "metadata": {},
   "outputs": [],
   "source": [
    "from llama_index.core import VectorStoreIndex"
   ]
  },
  {
   "cell_type": "code",
   "execution_count": 38,
   "id": "fbd8b83f",
   "metadata": {},
   "outputs": [],
   "source": [
    "import os\n",
    "import openai\n"
   ]
  },
  {
   "cell_type": "code",
   "execution_count": 39,
   "id": "b5272e02",
   "metadata": {},
   "outputs": [],
   "source": [
    "openai.api_key = \"\""
   ]
  },
  {
   "cell_type": "code",
   "execution_count": 40,
   "id": "cb5408b9",
   "metadata": {},
   "outputs": [],
   "source": [
    "index = VectorStoreIndex.from_documents(documents)"
   ]
  },
  {
   "cell_type": "code",
   "execution_count": 41,
   "id": "9b19d492",
   "metadata": {},
   "outputs": [],
   "source": [
    "query_engine = index.as_query_engine()"
   ]
  },
  {
   "cell_type": "code",
   "execution_count": 43,
   "id": "a346a6c5",
   "metadata": {},
   "outputs": [
    {
     "name": "stdout",
     "output_type": "stream",
     "text": [
      "The document is a Form 10-K filed by Apple Inc. for the fiscal year ended September 24, 2022. It includes various sections such as Business, Risk Factors, Legal Proceedings, Financial Statements, Management's Discussion and Analysis of Financial Condition, and other relevant information required by the Securities and Exchange Commission (SEC).\n"
     ]
    }
   ],
   "source": [
    "response = query_engine.query(\"what is this document about?\")\n",
    "print(response)"
   ]
  },
  {
   "cell_type": "code",
   "execution_count": 31,
   "id": "0d380c35",
   "metadata": {},
   "outputs": [
    {
     "data": {
      "text/plain": [
       "[NodeWithScore(node=TextNode(id_='d065d835-7a50-4824-b860-f7a08ddb5a71', embedding=None, metadata={'page_label': '160', 'file_name': '2021-Annual-Report.pdf', 'file_path': 'D:\\\\Llama-Index-Project-Repo\\\\03_Key_componensts_to_build_QA_systems\\\\data\\\\2021-Annual-Report.pdf', 'file_type': 'application/pdf', 'file_size': 4557617, 'creation_date': '2024-06-18', 'last_modified_date': '2024-06-18'}, excluded_embed_metadata_keys=['file_name', 'file_type', 'file_size', 'creation_date', 'last_modified_date', 'last_accessed_date'], excluded_llm_metadata_keys=['file_name', 'file_type', 'file_size', 'creation_date', 'last_modified_date', 'last_accessed_date'], relationships={<NodeRelationship.SOURCE: '1'>: RelatedNodeInfo(node_id='0577d812-aa4a-478b-ac8c-d02d91502592', node_type=<ObjectType.DOCUMENT: '4'>, metadata={'page_label': '160', 'file_name': '2021-Annual-Report.pdf', 'file_path': 'D:\\\\Llama-Index-Project-Repo\\\\03_Key_componensts_to_build_QA_systems\\\\data\\\\2021-Annual-Report.pdf', 'file_type': 'application/pdf', 'file_size': 4557617, 'creation_date': '2024-06-18', 'last_modified_date': '2024-06-18'}, hash='aac4dea2455850481fca02f9a6e877556fb63691ee9920fd0d3638a853958575')}, text='2021 Proxy Statement  d\\n1515 3rd Street  \\nSan Francisco, California 94158  \\nuber .com', start_char_idx=0, end_char_idx=85, text_template='{metadata_str}\\n\\n{content}', metadata_template='{key}: {value}', metadata_seperator='\\n'), score=0.7341098294558466),\n",
       " NodeWithScore(node=TextNode(id_='ec7823db-5e11-46c9-940f-67473ba6d412', embedding=None, metadata={'page_label': '67', 'file_name': '2021-Annual-Report.pdf', 'file_path': 'D:\\\\Llama-Index-Project-Repo\\\\03_Key_componensts_to_build_QA_systems\\\\data\\\\2021-Annual-Report.pdf', 'file_type': 'application/pdf', 'file_size': 4557617, 'creation_date': '2024-06-18', 'last_modified_date': '2024-06-18'}, excluded_embed_metadata_keys=['file_name', 'file_type', 'file_size', 'creation_date', 'last_modified_date', 'last_accessed_date'], excluded_llm_metadata_keys=['file_name', 'file_type', 'file_size', 'creation_date', 'last_modified_date', 'last_accessed_date'], relationships={<NodeRelationship.SOURCE: '1'>: RelatedNodeInfo(node_id='8d13f81c-6ebb-4c8d-8dac-540572e330ba', node_type=<ObjectType.DOCUMENT: '4'>, metadata={'page_label': '67', 'file_name': '2021-Annual-Report.pdf', 'file_path': 'D:\\\\Llama-Index-Project-Repo\\\\03_Key_componensts_to_build_QA_systems\\\\data\\\\2021-Annual-Report.pdf', 'file_type': 'application/pdf', 'file_size': 4557617, 'creation_date': '2024-06-18', 'last_modified_date': '2024-06-18'}, hash='8ae5896e7f3031a042683b5ed958913be762efb6e5d8001b00e7ed7834b8482d'), <NodeRelationship.NEXT: '3'>: RelatedNodeInfo(node_id='ecab7615-012c-4174-b66e-8ab5cbb5807c', node_type=<ObjectType.TEXT: '1'>, metadata={}, hash='3cd8cd6473f827ccad6a700e26fc51683118c0e77a6e293ec97365ee21608c9c')}, text='.?<\\x01=FCCFN@E>\\x01K89C<\\x01GI<J<EKJ\\x018\\x01I<:FE:@C@8K@FE\\x01F=\\x01E<K\\x01CFJJ\\x018KKI@ 9LK89C<\\x01KF\\x01/9<I\\x01.<:?EFCF>@<J\\x0b\\x01#E:\\r\\x0b\\x01K?<\\x01DFJK\\x01;@I<:KCP\\x01:FDG8I89C <\\x01\\n!\\x1b\\x1b*\\x01=@E8E:@8C\\x01D<8JLI<\\x0b\\x01KF\\x01\\x1b;ALJK<;\\x01\\x1f\\x1c#.', start_char_idx=0, end_char_idx=171, text_template='{metadata_str}\\n\\n{content}', metadata_template='{key}: {value}', metadata_seperator='\\n'), score=0.7318732544995974)]"
      ]
     },
     "execution_count": 31,
     "metadata": {},
     "output_type": "execute_result"
    }
   ],
   "source": [
    "response.source_nodes"
   ]
  },
  {
   "cell_type": "code",
   "execution_count": null,
   "id": "781fc457",
   "metadata": {},
   "outputs": [],
   "source": []
  },
  {
   "cell_type": "markdown",
   "id": "45ee318f",
   "metadata": {},
   "source": [
    "## low level api"
   ]
  },
  {
   "cell_type": "code",
   "execution_count": 44,
   "id": "e842da3e",
   "metadata": {},
   "outputs": [],
   "source": [
    "from llama_index.core.retrievers import VectorIndexRetriever\n",
    "from llama_index.core.response_synthesizers import get_response_synthesizer\n",
    "from llama_index.core.query_engine import RetrieverQueryEngine"
   ]
  },
  {
   "cell_type": "code",
   "execution_count": 45,
   "id": "26495020",
   "metadata": {},
   "outputs": [],
   "source": [
    "\n",
    "#configure retrivers\n",
    "retriver = VectorIndexRetriever(index=index, similarity_top_k=3)"
   ]
  },
  {
   "cell_type": "code",
   "execution_count": 46,
   "id": "a876717f",
   "metadata": {},
   "outputs": [],
   "source": [
    "#configure response synthesizer\n",
    "synth = get_response_synthesizer(response_mode=\"accumulate\")"
   ]
  },
  {
   "cell_type": "code",
   "execution_count": 47,
   "id": "e5c1b5c8",
   "metadata": {},
   "outputs": [],
   "source": [
    "#construct query engine\n",
    "\n",
    "query_engine = RetrieverQueryEngine(retriever=retriver, response_synthesizer=synth)"
   ]
  },
  {
   "cell_type": "code",
   "execution_count": 48,
   "id": "a454ea0f",
   "metadata": {},
   "outputs": [],
   "source": [
    "response = query_engine.query(\"what information do you have about apple investment?\")"
   ]
  },
  {
   "cell_type": "code",
   "execution_count": 49,
   "id": "71490374",
   "metadata": {},
   "outputs": [
    {
     "name": "stdout",
     "output_type": "stream",
     "text": [
      "Response 1: The information available about Apple investment includes the comparison of Apple Inc.'s cumulative total return with the S&P 500 Index, the S&P Information Technology Index, and the Dow Jones U.S. Technology Supersector Index over the five years ending on September 24, 2022. The data shows the performance of $100 invested in Apple Inc. on September 29, 2017, and how it grew to $411 by September 24, 2022.\n",
      "---------------------\n",
      "Response 2: Apple's retail stores have required substantial investment in equipment, leasehold improvements, information systems, inventory, and personnel. The company has also entered into substantial lease commitments for retail space. Certain stores have been designed and built as high-profile venues to promote brand awareness, requiring more investment than the company's typical retail stores. The high cost structure associated with Apple's retail stores could lead to significant lease termination costs, write-offs of equipment and leasehold improvements, and severance costs in case of a decline in sales or the closure of stores.\n",
      "---------------------\n",
      "Response 3: Apple invests heavily in research and development to ensure a continual flow of competitive products, services, and technologies to the marketplace. The company also holds a broad collection of intellectual property rights, including patents, designs, copyrights, and trademarks, which it believes are crucial in differentiating its business. Additionally, Apple regularly files patent, design, copyright, and trademark applications to protect innovations and has accumulated a large portfolio of intellectual property rights globally.\n"
     ]
    }
   ],
   "source": [
    "print(response)"
   ]
  },
  {
   "cell_type": "code",
   "execution_count": 50,
   "id": "a5767124",
   "metadata": {},
   "outputs": [
    {
     "data": {
      "text/plain": [
       "[NodeWithScore(node=TextNode(id_='d58672b3-7de6-4387-9f70-9e643b0503c5', embedding=None, metadata={'page_label': '22', 'file_name': 'AAPL.pdf', 'file_path': 'D:\\\\Llama-Index-Project-Repo\\\\03_Key_componensts_to_build_QA_systems\\\\data\\\\AAPL.pdf', 'file_type': 'application/pdf', 'file_size': 729516, 'creation_date': '2024-06-18', 'last_modified_date': '2024-06-14'}, excluded_embed_metadata_keys=['file_name', 'file_type', 'file_size', 'creation_date', 'last_modified_date', 'last_accessed_date'], excluded_llm_metadata_keys=['file_name', 'file_type', 'file_size', 'creation_date', 'last_modified_date', 'last_accessed_date'], relationships={<NodeRelationship.SOURCE: '1'>: RelatedNodeInfo(node_id='1d01009c-b77f-49c5-b322-3f6bf647bb04', node_type=<ObjectType.DOCUMENT: '4'>, metadata={'page_label': '22', 'file_name': 'AAPL.pdf', 'file_path': 'D:\\\\Llama-Index-Project-Repo\\\\03_Key_componensts_to_build_QA_systems\\\\data\\\\AAPL.pdf', 'file_type': 'application/pdf', 'file_size': 729516, 'creation_date': '2024-06-18', 'last_modified_date': '2024-06-14'}, hash='e14b6cf8292bd169b551fde42f3e2eb7a5ad3360bbebc453da22bd430688a85c')}, text='Company Stock Performance\\nThe following graph  shows a comparison of cumulative total shareholder return, calculated on a dividend-reinvested basis, for \\nthe Company, the S&P 500 Index, the S&P Information Technology Index and the Dow Jones U.S. Technology Supersector \\nIndex for the five years ended September\\xa024, 2022 . The graph assumes $100 was invested in each of the Company’s common \\nstock, the S&P 500 Index, the S&P Information Technology Index and the Dow Jones U.S. Technology Supersector Index as of \\nthe market close on September\\xa0 29, 2017 . Past stock price performance is not necessarily indicative of future stock price \\nperformance .\\nCOMPARISON OF 5-YEAR CUMULATIVE TOTAL RETURN*\\nAmong Apple Inc., the S&P 500 Index, the S&P Information Technology Index \\nand the Dow Jones U.S. Technology Supersector Index\\nApple Inc. S&P 500 Index\\nS&P Information Technology Index Dow Jones U.S. Technology Supersector Index9/29/17 9/29/18 9/28/19 9/26/20 9/25/21 9/24/22$0$100$200$300$400$500\\n* $100 invested on September\\xa029, 2017  in stock or index, including reinvestment of dividends. Data points are the last day of \\neach fiscal year for the Company’s common stock and September 30th for indexes.\\nCopyright© 2022  Standard & Poor’s, a division of S&P Global. All rights reserved.\\nCopyright© 2022  S&P Dow Jones Indices LLC, a division of S&P Global. All rights reserved.\\nSeptember \\n2017September \\n2018September \\n2019September \\n2020September \\n2021September \\n2022\\nApple Inc. $ 100 $ 149 $ 146 $ 303 $ 400 $ 411 \\nS&P 500 Index $ 100 $ 118 $ 123 $ 142 $ 184 $ 156 \\nS&P Information Technology Index $ 100 $ 131 $ 143 $ 210 $ 271 $ 217 \\nDow Jones U.S. Technology Supersector Index $ 100 $ 131 $ 139 $ 208 $ 283 $ 209 \\nItem 6. [Reserved]\\nApple Inc. | 2022  Form 10-K | 19', start_char_idx=0, end_char_idx=1770, text_template='{metadata_str}\\n\\n{content}', metadata_template='{key}: {value}', metadata_seperator='\\n'), score=0.8130324012017378),\n",
       " NodeWithScore(node=TextNode(id_='1e2428de-2437-47f5-ace9-e2a0239d313a', embedding=None, metadata={'page_label': '15', 'file_name': 'AAPL.pdf', 'file_path': 'D:\\\\Llama-Index-Project-Repo\\\\03_Key_componensts_to_build_QA_systems\\\\data\\\\AAPL.pdf', 'file_type': 'application/pdf', 'file_size': 729516, 'creation_date': '2024-06-18', 'last_modified_date': '2024-06-14'}, excluded_embed_metadata_keys=['file_name', 'file_type', 'file_size', 'creation_date', 'last_modified_date', 'last_accessed_date'], excluded_llm_metadata_keys=['file_name', 'file_type', 'file_size', 'creation_date', 'last_modified_date', 'last_accessed_date'], relationships={<NodeRelationship.SOURCE: '1'>: RelatedNodeInfo(node_id='ac04a61b-ccaf-498c-b6f6-956b13363ea7', node_type=<ObjectType.DOCUMENT: '4'>, metadata={'page_label': '15', 'file_name': 'AAPL.pdf', 'file_path': 'D:\\\\Llama-Index-Project-Repo\\\\03_Key_componensts_to_build_QA_systems\\\\data\\\\AAPL.pdf', 'file_type': 'application/pdf', 'file_size': 729516, 'creation_date': '2024-06-18', 'last_modified_date': '2024-06-14'}, hash='a3d90d0ccd3f4a13ac3b5d10721d9f6d25a8b99615f530968000e4b99a2c006d'), <NodeRelationship.PREVIOUS: '2'>: RelatedNodeInfo(node_id='2763ec8d-7aaf-475a-9e96-ffde4ec6a958', node_type=<ObjectType.TEXT: '1'>, metadata={'page_label': '15', 'file_name': 'AAPL.pdf', 'file_path': 'D:\\\\Llama-Index-Project-Repo\\\\03_Key_componensts_to_build_QA_systems\\\\data\\\\AAPL.pdf', 'file_type': 'application/pdf', 'file_size': 729516, 'creation_date': '2024-06-18', 'last_modified_date': '2024-06-14'}, hash='0720d06bccd8e4bf5d651162b8c6e12be237572842e0723d3155f72fa7f06fd0')}, text='The Company’s retail stores have required and will continue to require a substantial investment and commitment of \\nresources and are subject to numerous risks and uncertainties.\\nThe Company’s retail stores have required substantial investment in equipment and leasehold improvements, information \\nsystems, inventory and personnel. The Company also has entered into substantial lease commitments for retail space. Certain \\nstores have been designed and built to serve as high-profile venues to promote brand awareness. Because of their unique \\ndesign elements, locations and size, these stores require substantially more investment than the Company’s more typical retail \\nstores. Due to the high cost structure associated with the Company’s retail stores, a decline in sales or the closure or poor \\nperformance of an individual store or multiple stores, including as a result of protective public safety measures in response to the \\nCOVID-19 pandemic, could result in significant lease termination costs, write-offs of equipment and leasehold improvements and \\nseverance costs.\\nThe Company’s retail operations are subject to many factors that pose risks and uncertainties and could adversely impact the \\nCompany’s business, results of operations and financial condition, including macro-economic factors that could have an adverse \\neffect on general retail activity. Other factors include the Company’s ability to: manage costs associated with retail store \\nconstruction and operation; manage relationships with existing retail partners; manage costs associated with fluctuations in the \\nvalue of retail inventory; and obtain and renew leases in quality retail locations at a reasonable cost.\\nApple Inc. | 2022  Form 10-K | 12', start_char_idx=4237, end_char_idx=5962, text_template='{metadata_str}\\n\\n{content}', metadata_template='{key}: {value}', metadata_seperator='\\n'), score=0.8027247258990103),\n",
       " NodeWithScore(node=TextNode(id_='dcaa2f92-d8e0-4ebd-afa9-b737da31a620', embedding=None, metadata={'page_label': '6', 'file_name': 'AAPL.pdf', 'file_path': 'D:\\\\Llama-Index-Project-Repo\\\\03_Key_componensts_to_build_QA_systems\\\\data\\\\AAPL.pdf', 'file_type': 'application/pdf', 'file_size': 729516, 'creation_date': '2024-06-18', 'last_modified_date': '2024-06-14'}, excluded_embed_metadata_keys=['file_name', 'file_type', 'file_size', 'creation_date', 'last_modified_date', 'last_accessed_date'], excluded_llm_metadata_keys=['file_name', 'file_type', 'file_size', 'creation_date', 'last_modified_date', 'last_accessed_date'], relationships={<NodeRelationship.SOURCE: '1'>: RelatedNodeInfo(node_id='449df7d0-2e0f-4b45-bafb-93edc55b7f89', node_type=<ObjectType.DOCUMENT: '4'>, metadata={'page_label': '6', 'file_name': 'AAPL.pdf', 'file_path': 'D:\\\\Llama-Index-Project-Repo\\\\03_Key_componensts_to_build_QA_systems\\\\data\\\\AAPL.pdf', 'file_type': 'application/pdf', 'file_size': 729516, 'creation_date': '2024-06-18', 'last_modified_date': '2024-06-14'}, hash='34fc25a515d9b560dcec782709f7ad0b89ab9e02405943ecf66121013aa5a38b')}, text='The Company is focused on expanding its market opportunities related to smartphones, personal computers, tablets, wearables \\nand accessories, and services. The Company faces substantial competition in these markets from companies that have \\nsignificant technical, marketing, distribution and other resources, as well as established hardware, software, and service offerings \\nwith large customer bases. In addition, some of the Company’s competitors have broader product lines, lower-priced products \\nand a larger installed base of active devices. Competition has been particularly intense as competitors have aggressively cut \\nprices and lowered product margins. Certain competitors have the resources, experience or cost structures to provide products \\nat little or no profit or even at a loss. The Company’s services compete with business models that provide content to users for \\nfree and use illegitimate means to obtain third-party digital content and applications. The Company faces significant competition \\nas competitors imitate the Company’s product features and applications within their products, or collaborate to offer integrated \\nsolutions that are more competitive than those they currently offer.\\nSupply of Components\\nAlthough most components essential to the Company’s business are generally available from multiple sources, certain \\ncomponents are currently obtained from single or limited sources. The Company also competes for various components with \\nother participants in the markets for smartphones, personal computers, tablets, wearables and accessories. Therefore, many \\ncomponents used by the Company, including those that are available from multiple sources, are at times subject to industry-wide \\nshortage and significant commodity pricing fluctuations.\\nThe Company uses some custom components that are not commonly used by its competitors, and new products introduced by \\nthe Company often utilize custom components available from only one source. When a component or product uses new \\ntechnologies, initial capacity constraints may exist until the suppliers’ yields have matured or their manufacturing capacities have \\nincreased. The continued availability of these components at acceptable prices, or at all, may be affected if suppliers decide to \\nconcentrate on the production of common components instead of components customized to meet the Company’s requirements.\\nThe Company has entered into agreements for the supply of many components; however, there can be no guarantee that the \\nCompany will be able to extend or renew these agreements on similar terms, or at all.\\nSubstantially all of the Company’s hardware products are manufactured by outsourcing partners that are located primarily in \\nAsia, with some Mac computers manufactured in the U.S. and Ireland.\\nResearch and Development\\nBecause the industries in which the Company competes are characterized by rapid technological advances, the Company’s \\nability to compete successfully depends heavily upon its ability to ensure a continual and timely flow of competitive products, \\nservices and technologies to the marketplace. The Company continues to develop new technologies to enhance existing \\nproducts and services, and to expand the range of its offerings through research and development (“R&D”), licensing of \\nintellectual property and acquisition of third-party businesses and technology.\\nIntellectual Property\\nThe Company currently holds a broad collection of intellectual property rights relating to certain aspects of its hardware devices, \\naccessories, software and services. This includes patents, designs, copyrights, trademarks and other forms of intellectual \\nproperty rights in the U.S. and various foreign countries. Although the Company believes the ownership of such intellectual \\nproperty rights is an important factor in differentiating its business and that its success does depend in part on such ownership, \\nthe Company relies primarily on the innovative skills, technical competence and marketing abilities of its personnel.\\nThe Company regularly files patent, design, copyright and trademark applications to protect innovations arising from its research, \\ndevelopment, design and marketing, and is currently pursuing thousands of applications around the world. Over time, the \\nCompany has accumulated a large portfolio of issued and registered intellectual property rights around the world. No single \\nintellectual property right is solely responsible for protecting the Company’s products and services. The Company believes the \\nduration of its intellectual property rights is adequate relative to the expected lives of its products and services.\\nIn addition to Company-owned intellectual property, many of the Company’s products and services are designed to include \\nintellectual property owned by third parties. It may be necessary in the future to seek or renew licenses relating to various \\naspects of the Company’s products, processes and services. While the Company has generally been able to obtain such \\nlicenses on commercially reasonable terms in the past, there is no guarantee that such licenses could be obtained in the future \\non reasonable terms or at all.\\nApple Inc. | 2022  Form 10-K | 3', start_char_idx=0, end_char_idx=5224, text_template='{metadata_str}\\n\\n{content}', metadata_template='{key}: {value}', metadata_seperator='\\n'), score=0.8016294633646746)]"
      ]
     },
     "execution_count": 50,
     "metadata": {},
     "output_type": "execute_result"
    }
   ],
   "source": [
    "response.source_nodes\n"
   ]
  },
  {
   "cell_type": "code",
   "execution_count": null,
   "id": "64e15891",
   "metadata": {},
   "outputs": [],
   "source": []
  },
  {
   "cell_type": "code",
   "execution_count": null,
   "id": "8a8df147",
   "metadata": {},
   "outputs": [],
   "source": []
  },
  {
   "cell_type": "code",
   "execution_count": null,
   "id": "239c15b8",
   "metadata": {},
   "outputs": [],
   "source": []
  },
  {
   "cell_type": "code",
   "execution_count": null,
   "id": "7a6ec2a4",
   "metadata": {},
   "outputs": [],
   "source": []
  },
  {
   "cell_type": "code",
   "execution_count": null,
   "id": "210c675e",
   "metadata": {},
   "outputs": [],
   "source": []
  },
  {
   "cell_type": "code",
   "execution_count": null,
   "id": "cf971aee",
   "metadata": {},
   "outputs": [],
   "source": []
  },
  {
   "cell_type": "code",
   "execution_count": null,
   "id": "31d838a2",
   "metadata": {},
   "outputs": [],
   "source": []
  },
  {
   "cell_type": "code",
   "execution_count": null,
   "id": "475b9e4b",
   "metadata": {},
   "outputs": [],
   "source": []
  },
  {
   "cell_type": "code",
   "execution_count": null,
   "id": "d3640d37",
   "metadata": {},
   "outputs": [],
   "source": []
  },
  {
   "cell_type": "code",
   "execution_count": null,
   "id": "47b1fcce",
   "metadata": {},
   "outputs": [],
   "source": []
  },
  {
   "cell_type": "code",
   "execution_count": null,
   "id": "4085947b",
   "metadata": {},
   "outputs": [],
   "source": []
  },
  {
   "cell_type": "code",
   "execution_count": null,
   "id": "0233a2d9",
   "metadata": {},
   "outputs": [],
   "source": []
  },
  {
   "cell_type": "code",
   "execution_count": null,
   "id": "14950a2a",
   "metadata": {},
   "outputs": [],
   "source": []
  },
  {
   "cell_type": "code",
   "execution_count": null,
   "id": "a5a8eaeb",
   "metadata": {},
   "outputs": [],
   "source": []
  },
  {
   "cell_type": "code",
   "execution_count": null,
   "id": "b784930f",
   "metadata": {},
   "outputs": [],
   "source": []
  },
  {
   "cell_type": "code",
   "execution_count": null,
   "id": "f4abc259",
   "metadata": {},
   "outputs": [],
   "source": []
  },
  {
   "cell_type": "code",
   "execution_count": null,
   "id": "619be70f",
   "metadata": {},
   "outputs": [],
   "source": []
  }
 ],
 "metadata": {
  "kernelspec": {
   "display_name": "Python 3 (ipykernel)",
   "language": "python",
   "name": "python3"
  },
  "language_info": {
   "codemirror_mode": {
    "name": "ipython",
    "version": 3
   },
   "file_extension": ".py",
   "mimetype": "text/x-python",
   "name": "python",
   "nbconvert_exporter": "python",
   "pygments_lexer": "ipython3",
   "version": "3.11.7"
  }
 },
 "nbformat": 4,
 "nbformat_minor": 5
}
